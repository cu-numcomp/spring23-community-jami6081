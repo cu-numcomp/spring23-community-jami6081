{
 "cells": [
  {
   "cell_type": "markdown",
   "id": "a72b248f-a99f-4d5e-8e03-bcb8f44b6122",
   "metadata": {},
   "source": [
    "# NonlinearSolve.jl \n",
    "\n",
    "Numerical Computation project package proposal \n",
    "\n",
    "Jack Midyette"
   ]
  },
  {
   "cell_type": "markdown",
   "id": "8bc3a7fa-b2fa-40bd-b021-13f6c4193e58",
   "metadata": {},
   "source": [
    "NonlinearSolve.jl is a package that provides a unified interface for nonlinear solving packages in julia. Also included in this package are two independently developed high performance nonlinear solvers, NewtonRaphson() and TrustRegion(). These solvers are combined with the ability to use sparse automatic differentiation and embedded jacobian vector product calculation to create an environment that allows for easy testing of the effectiveness of alternative solver packages. As of now this package is optimized for small scale problems, it can be used for larger applications but it is likely that performance errors will be experienced. Shown below are some provided examples that can be run to show how the package functions.NonlinearSolve.jl is a package that provides a unified inteface for nonlinear solving packages in julia. Also included in this package are two independantly developed high preformance nonlinear solvers, NewtonRaphson() and TrustRegion(). These solvers are combined with the ability to use soarse automatic differentiation and inbeded jacobian vector product calculation to create an enviornment that allows for easy testing of the effectivness of alternative solver packages. As of now this package is optemized for small scale problems, it can be used for larger aplications but it is likely that preformance errors will be experienced. Shown below are some provided examples that can be ran to show how the package functions.\n",
    "\n",
    "- Package Link: https://github.com/SciML/LinearSolve.jl\n",
    "- Main Documentation: https://docs.sciml.ai/NonlinearSolve/stable/\n",
    "\n",
    "\n"
   ]
  },
  {
   "cell_type": "code",
   "execution_count": null,
   "id": "5b903e58-f707-43c6-9bdb-90900fe5b7b2",
   "metadata": {},
   "outputs": [],
   "source": [
    "using NonlinearSolve, StaticArrays\n",
    "\n",
    "f(u, p) = u .* u .- p\n",
    "u0 = @SVector[1.0, 1.0]\n",
    "p = 2.0\n",
    "probN = NonlinearProblem(f, u0, p)\n",
    "solver = solve(probN, NewtonRaphson(), reltol = 1e-9)\n",
    "\n",
    "#Should get u: 2-element StaticArraysCore.SVector{2, Float64} with indices SOneTo(2):\n",
    "# 1.4142135623746899\n",
    "# 1.4142135623746899"
   ]
  },
  {
   "cell_type": "code",
   "execution_count": null,
   "id": "2db5747e-1ac4-4c94-b886-2dc1b5c99664",
   "metadata": {},
   "outputs": [],
   "source": [
    "using NonlinearSolve\n",
    "f(u, p) = u * u - 2.0\n",
    "uspan = (1.0, 2.0) # brackets\n",
    "probB = IntervalNonlinearProblem(f, uspan)\n",
    "sol = solve(probB, Falsi())\n",
    "\n",
    "#Should get u: 1.414213562373095"
   ]
  },
  {
   "cell_type": "code",
   "execution_count": null,
   "id": "b4e3a980-3acc-4c7f-baa7-c8f9d42d432f",
   "metadata": {},
   "outputs": [],
   "source": [
    "using NonlinearSolve\n",
    "f(u, p) = u .* u .- 2.0\n",
    "u0 = 1.5\n",
    "probB = NonlinearProblem(f, u0)\n",
    "cache = init(probB, NewtonRaphson()) # Can iterate the solver object\n",
    "solver = solve!(cache)\n",
    "\n",
    "#Should get u: 1.4142135623746899"
   ]
  },
  {
   "cell_type": "markdown",
   "id": "d067f84b-033a-4e87-ba79-c87023ef8d2e",
   "metadata": {},
   "source": [
    "# Questions\n",
    "\n",
    "- What are the current limitations of this software in terms of scale? It is made clear that it has limitations in scale applications, but I would like to find where those limits are\n",
    "\n",
    "- When a large-scale problem is introduced, is there a decrease in accuracy or is it just performance losses?\n",
    "\n",
    "\n",
    "# Possible Project\n",
    "\n",
    "- with this package I would like to use it to test the effectiveness of nonlinear solvers in regards to the Naier Stokes equations and see if the included solvers are able to be used in fluid mechanics applications."
   ]
  },
  {
   "cell_type": "code",
   "execution_count": null,
   "id": "fa5c99bc-d88b-4cce-9f71-fb0cc091bc9c",
   "metadata": {},
   "outputs": [],
   "source": []
  }
 ],
 "metadata": {
  "kernelspec": {
   "display_name": "Julia 1.8.3",
   "language": "julia",
   "name": "julia-1.8"
  },
  "language_info": {
   "file_extension": ".jl",
   "mimetype": "application/julia",
   "name": "julia",
   "version": "1.8.3"
  }
 },
 "nbformat": 4,
 "nbformat_minor": 5
}
